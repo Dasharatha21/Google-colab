{
  "nbformat": 4,
  "nbformat_minor": 0,
  "metadata": {
    "colab": {
      "name": "Upload_videos_from_any_Cloud_Drive_to_YouTube_BoostUpStation.ipynb",
      "provenance": []
    },
    "kernelspec": {
      "name": "python3",
      "display_name": "Python 3"
    },
    "language_info": {
      "name": "python"
    }
  },
  "cells": [
    {
      "cell_type": "markdown",
      "metadata": {
        "id": "XCBBbWxx_5g7"
      },
      "source": [
        "#<<----<strong>Upload videos from any Cloud Drive to YouTube BoostUpStation\n",
        "\n",
        "#RESUME Supported :)\n",
        "#Mega, OneDrive, Google Drive, Shared Drive, DropBox, etc..\n",
        "#You can use others too :)</strong>\n",
        "\n",
        "#1st Step: <a href=\"https://www.youtube.com/watch?v=6MBLrH1j6Tg\">Create & Download Credentials.json file</a>\n",
        "\n",
        "#2nd Step: <a href=\"https://www.youtube.com/watch?v=fN8WwVQTWYk\">Enable YouTube Data API 3</a>\n",
        "\n",
        "#3rd Step: <a href=\"https://www.youtube.com/watch?v=U6YPgARhRzA&list=PL_lHtZQj-g8MH3blMOjptLqUIZFIQiNkv\">Mount Cloud Drives WITHOUT rclone in Colab</a>\n",
        "\n",
        "#<strong>  OR</strong>\n",
        "\n",
        "#3rd Step: <a href=\"https://www.youtube.com/watch?v=OcMq31p3FSU&list=PL_lHtZQj-g8MD5VjBRphBX38gDl2uCsBz\">Mount Cloud Drives using rclone in Colab</a>\n",
        "\n",
        "# [MUST WATCH] <a href=\"https://www.youtube.com/watch?v=qQ3CUHjbJ0w&list=PL_lHtZQj-g8PUSRi3NAAX1YbbiEazGFBa\">Google Colab Playlist</a>\n",
        "\n",
        "#<strong>Subscribe</strong>: <a href=\"https://www.youtube.com/boostupstation\">BoostUpStation</a>"
      ]
    },
    {
      "cell_type": "code",
      "metadata": {
        "id": "IKzPx8trBR-f"
      },
      "source": [
        ""
      ],
      "execution_count": null,
      "outputs": []
    },
    {
      "cell_type": "code",
      "metadata": {
        "id": "mujkmDFaTPW9",
        "cellView": "form"
      },
      "source": [
        "#@title <<---- Run this cell to install dependencies\n",
        "!git clone https://github.com/Dasharatha21/youtube-up.git\n",
        "!cd youtube-up\n",
        "!python youtube-up/setup.py"
      ],
      "execution_count": null,
      "outputs": []
    },
    {
      "cell_type": "code",
      "metadata": {
        "id": "UfnlVNo4BdkJ"
      },
      "source": [
        ""
      ],
      "execution_count": null,
      "outputs": []
    },
    {
      "cell_type": "code",
      "metadata": {
        "cellView": "form",
        "id": "nuyNmDQeuqSF"
      },
      "source": [
        "#@title <<---- Run this cell whenever you want to upload videos in current session\n",
        "!python2 youtube-up/upload.py"
      ],
      "execution_count": null,
      "outputs": []
    },
    {
      "cell_type": "code",
      "metadata": {
        "id": "6YxuTIglBeOq"
      },
      "source": [
        ""
      ],
      "execution_count": null,
      "outputs": []
    }
  ]
}
